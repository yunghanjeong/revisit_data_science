{
 "cells": [
  {
   "cell_type": "markdown",
   "metadata": {},
   "source": [
    "# Libary Imports"
   ]
  },
  {
   "cell_type": "code",
   "execution_count": 1,
   "metadata": {},
   "outputs": [],
   "source": [
    "import pandas as pd # pandas for DataFrame data structure \n",
    "import numpy as np # numpy for calculation, especially vectorization if necessary\n",
    "import os # importing OS might be necessary to read files depending on your setup\n",
    "import matplotlib.pyplot as plt"
   ]
  },
  {
   "cell_type": "code",
   "execution_count": null,
   "metadata": {},
   "outputs": [],
   "source": []
  },
  {
   "cell_type": "code",
   "execution_count": 2,
   "metadata": {},
   "outputs": [
    {
     "data": {
      "text/html": [
       "<div>\n",
       "<style scoped>\n",
       "    .dataframe tbody tr th:only-of-type {\n",
       "        vertical-align: middle;\n",
       "    }\n",
       "\n",
       "    .dataframe tbody tr th {\n",
       "        vertical-align: top;\n",
       "    }\n",
       "\n",
       "    .dataframe thead th {\n",
       "        text-align: right;\n",
       "    }\n",
       "</style>\n",
       "<table border=\"1\" class=\"dataframe\">\n",
       "  <thead>\n",
       "    <tr style=\"text-align: right;\">\n",
       "      <th></th>\n",
       "      <th>make</th>\n",
       "      <th>model</th>\n",
       "      <th>engine_size</th>\n",
       "      <th>transmission</th>\n",
       "      <th>cylinders</th>\n",
       "      <th>fuel_consumption_city</th>\n",
       "      <th>fuel_consumption_hwy</th>\n",
       "      <th>fuel_consumption_comb</th>\n",
       "      <th>emissions</th>\n",
       "      <th>luxury</th>\n",
       "    </tr>\n",
       "  </thead>\n",
       "  <tbody>\n",
       "    <tr>\n",
       "      <th>0</th>\n",
       "      <td>ACURA</td>\n",
       "      <td>ILX</td>\n",
       "      <td>2.0</td>\n",
       "      <td>AS5</td>\n",
       "      <td>4.0</td>\n",
       "      <td>9.80</td>\n",
       "      <td>6.70</td>\n",
       "      <td>8.40</td>\n",
       "      <td>193.5</td>\n",
       "      <td>1</td>\n",
       "    </tr>\n",
       "    <tr>\n",
       "      <th>1</th>\n",
       "      <td>ACURA</td>\n",
       "      <td>ILX</td>\n",
       "      <td>2.4</td>\n",
       "      <td>AM8</td>\n",
       "      <td>4.0</td>\n",
       "      <td>9.58</td>\n",
       "      <td>6.84</td>\n",
       "      <td>8.34</td>\n",
       "      <td>194.2</td>\n",
       "      <td>1</td>\n",
       "    </tr>\n",
       "    <tr>\n",
       "      <th>2</th>\n",
       "      <td>ACURA</td>\n",
       "      <td>ILX</td>\n",
       "      <td>2.4</td>\n",
       "      <td>M6</td>\n",
       "      <td>4.0</td>\n",
       "      <td>11.00</td>\n",
       "      <td>7.55</td>\n",
       "      <td>9.45</td>\n",
       "      <td>217.5</td>\n",
       "      <td>1</td>\n",
       "    </tr>\n",
       "    <tr>\n",
       "      <th>3</th>\n",
       "      <td>ACURA</td>\n",
       "      <td>ILX HYBRID</td>\n",
       "      <td>1.5</td>\n",
       "      <td>CVT</td>\n",
       "      <td>4.0</td>\n",
       "      <td>6.00</td>\n",
       "      <td>5.95</td>\n",
       "      <td>6.00</td>\n",
       "      <td>138.0</td>\n",
       "      <td>1</td>\n",
       "    </tr>\n",
       "    <tr>\n",
       "      <th>4</th>\n",
       "      <td>ACURA</td>\n",
       "      <td>MDX 4WD</td>\n",
       "      <td>3.5</td>\n",
       "      <td>AS6</td>\n",
       "      <td>6.0</td>\n",
       "      <td>12.70</td>\n",
       "      <td>9.10</td>\n",
       "      <td>11.10</td>\n",
       "      <td>255.0</td>\n",
       "      <td>1</td>\n",
       "    </tr>\n",
       "  </tbody>\n",
       "</table>\n",
       "</div>"
      ],
      "text/plain": [
       "    make       model  engine_size transmission  cylinders  \\\n",
       "0  ACURA         ILX          2.0          AS5        4.0   \n",
       "1  ACURA         ILX          2.4          AM8        4.0   \n",
       "2  ACURA         ILX          2.4           M6        4.0   \n",
       "3  ACURA  ILX HYBRID          1.5          CVT        4.0   \n",
       "4  ACURA     MDX 4WD          3.5          AS6        6.0   \n",
       "\n",
       "   fuel_consumption_city  fuel_consumption_hwy  fuel_consumption_comb  \\\n",
       "0                   9.80                  6.70                   8.40   \n",
       "1                   9.58                  6.84                   8.34   \n",
       "2                  11.00                  7.55                   9.45   \n",
       "3                   6.00                  5.95                   6.00   \n",
       "4                  12.70                  9.10                  11.10   \n",
       "\n",
       "   emissions  luxury  \n",
       "0      193.5       1  \n",
       "1      194.2       1  \n",
       "2      217.5       1  \n",
       "3      138.0       1  \n",
       "4      255.0       1  "
      ]
     },
     "execution_count": 2,
     "metadata": {},
     "output_type": "execute_result"
    }
   ],
   "source": [
    "df = pd.read_csv('..\\data\\Emissions_Clean.csv', index_col=0) # import the csv file as DataFrame\n",
    "df.head() # print the head (top 5 rows) to preview the data"
   ]
  },
  {
   "cell_type": "code",
   "execution_count": 6,
   "metadata": {},
   "outputs": [
    {
     "data": {
      "text/plain": [
       "<AxesSubplot:ylabel='Frequency'>"
      ]
     },
     "execution_count": 6,
     "metadata": {},
     "output_type": "execute_result"
    },
    {
     "data": {
      "image/png": "[encoded data removed]",
      "text/plain": [
       "<Figure size 432x288 with 1 Axes>"
      ]
     },
     "metadata": {
      "needs_background": "light"
     },
     "output_type": "display_data"
    }
   ],
   "source": [
    "df[df['luxury'] != 1].fuel_consumption_comb.plot(kind='hist', legend = True)\n",
    "df[df['luxury'] == 1].fuel_consumption_comb.plot(kind='hist', legend = True)"
   ]
  },
  {
   "cell_type": "code",
   "execution_count": null,
   "metadata": {},
   "outputs": [],
   "source": []
  }
 ],
 "metadata": {
  "kernelspec": {
   "display_name": "Python 3",
   "language": "python",
   "name": "python3"
  },
  "language_info": {
   "codemirror_mode": {
    "name": "ipython",
    "version": 3
   },
   "file_extension": ".py",
   "mimetype": "text/x-python",
   "name": "python",
   "nbconvert_exporter": "python",
   "pygments_lexer": "ipython3",
   "version": "3.7.9"
  }
 },
 "nbformat": 4,
 "nbformat_minor": 4
}
